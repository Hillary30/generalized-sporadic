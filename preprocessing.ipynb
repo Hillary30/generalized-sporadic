{
 "cells": [
  {
   "attachments": {},
   "cell_type": "markdown",
   "metadata": {},
   "source": [
    "## IMPORT"
   ]
  },
  {
   "cell_type": "code",
   "execution_count": 1,
   "metadata": {},
   "outputs": [],
   "source": [
    "import os\n",
    "import pandas as pd"
   ]
  },
  {
   "attachments": {},
   "cell_type": "markdown",
   "metadata": {},
   "source": [
    "## HELPER FUNCTIONS"
   ]
  },
  {
   "cell_type": "code",
   "execution_count": 2,
   "metadata": {},
   "outputs": [],
   "source": [
    "def get_filtered_filenames(folder_path, prefix='task_sets_500'):\n",
    "  filtered_files = []\n",
    "  for file in os.listdir(folder_path):\n",
    "    if file.startswith(prefix) and file.endswith('.csv'):\n",
    "      filtered_files.append('./csv/' + file)\n",
    "  return filtered_files"
   ]
  },
  {
   "cell_type": "code",
   "execution_count": 3,
   "metadata": {},
   "outputs": [],
   "source": [
    "def preprocess_data(file_names):\n",
    "  dfs = []\n",
    "  for file_name in file_names:\n",
    "    df = pd.read_csv(file_name)  \n",
    "    df = df.dropna()\n",
    "    assert not df.isnull().any().any(), \"DataFrame contains NaN values\"\n",
    "    dfs.append(df)\n",
    "  \n",
    "  combined_df = pd.concat(dfs, ignore_index=True)  \n",
    "  combined_df.drop_duplicates(inplace=True)  \n",
    "  combined_df[\"thm1\"] = combined_df[\"thm1\"].astype(bool)\n",
    "  combined_df[\"thm2\"] = combined_df[\"thm2\"].astype(bool)\n",
    "  combined_df[\"thm3\"] = combined_df[\"thm3\"].astype(bool)\n",
    "  # combined_df = combined_df.sample(n=14000)\n",
    "  return combined_df"
   ]
  },
  {
   "attachments": {},
   "cell_type": "markdown",
   "metadata": {},
   "source": [
    "## DATA PREPROCESSING"
   ]
  },
  {
   "cell_type": "code",
   "execution_count": 4,
   "metadata": {},
   "outputs": [],
   "source": [
    "FILEPATH = '/Users/jiwoo/Desktop/generalized-sporadic/csv/'\n",
    "PREFIX = ['task_sets_500', 'task_sets_550', 'task_sets_600', 'task_sets_650', 'task_sets_700', 'task_sets_750', 'task_sets_800', 'task_sets_850','task_sets_900','task_sets_950', 'task_sets_975']"
   ]
  },
  {
   "cell_type": "code",
   "execution_count": 5,
   "metadata": {},
   "outputs": [
    {
     "name": "stdout",
     "output_type": "stream",
     "text": [
      "------------------------------task_sets_500-------------------------------\n",
      "          num_tasks         t_max   utilization\n",
      "count  14000.000000  14000.000000  14000.000000\n",
      "mean       4.493000    357.467286      0.496839\n",
      "std        0.994567    433.861478      0.001842\n",
      "min        3.000000      1.000000      0.485008\n",
      "25%        4.000000     91.000000      0.496034\n",
      "50%        4.000000    214.000000      0.497255\n",
      "75%        5.000000    449.000000      0.498139\n",
      "max       10.000000   2995.000000      0.499806\n",
      "------------------------------task_sets_550-------------------------------\n",
      "          num_tasks         t_max   utilization\n",
      "count  14000.000000  14000.000000  14000.000000\n",
      "mean       4.492714    357.562929      0.496836\n",
      "std        0.994063    433.277987      0.001843\n",
      "min        3.000000      1.000000      0.485008\n",
      "25%        4.000000     91.000000      0.496025\n",
      "50%        4.000000    215.000000      0.497253\n",
      "75%        5.000000    450.000000      0.498136\n",
      "max       10.000000   3001.000000      0.499806\n",
      "------------------------------task_sets_600-------------------------------\n",
      "          num_tasks         t_max   utilization\n",
      "count  14000.000000  14000.000000  14000.000000\n",
      "mean       4.492643    358.899143      0.496839\n",
      "std        0.993199    436.870503      0.001837\n",
      "min        3.000000      1.000000      0.485008\n",
      "25%        4.000000     91.000000      0.496033\n",
      "50%        4.000000    214.000000      0.497253\n",
      "75%        5.000000    450.000000      0.498135\n",
      "max       10.000000   3001.000000      0.499806\n",
      "------------------------------task_sets_650-------------------------------\n",
      "          num_tasks         t_max   utilization\n",
      "count  14000.000000  14000.000000  14000.000000\n",
      "mean       4.490857    357.716786      0.496837\n",
      "std        0.991889    434.569396      0.001839\n",
      "min        3.000000      1.000000      0.485008\n",
      "25%        4.000000     91.000000      0.496029\n",
      "50%        4.000000    214.000000      0.497251\n",
      "75%        5.000000    449.000000      0.498136\n",
      "max       10.000000   3001.000000      0.499806\n",
      "------------------------------task_sets_700-------------------------------\n",
      "          num_tasks         t_max   utilization\n",
      "count  14000.000000  14000.000000  14000.000000\n",
      "mean       4.492143    357.828143      0.496839\n",
      "std        0.995781    435.380584      0.001843\n",
      "min        3.000000      1.000000      0.485008\n",
      "25%        4.000000     91.000000      0.496038\n",
      "50%        4.000000    214.000000      0.497255\n",
      "75%        5.000000    449.000000      0.498138\n",
      "max       10.000000   3001.000000      0.499806\n",
      "------------------------------task_sets_750-------------------------------\n",
      "          num_tasks         t_max   utilization\n",
      "count  14000.000000  14000.000000  14000.000000\n",
      "mean       4.491929    357.571286      0.496837\n",
      "std        0.995206    434.888742      0.001844\n",
      "min        3.000000      1.000000      0.485008\n",
      "25%        4.000000     90.000000      0.496028\n",
      "50%        4.000000    213.000000      0.497253\n",
      "75%        5.000000    449.000000      0.498136\n",
      "max       10.000000   3001.000000      0.499806\n",
      "------------------------------task_sets_800-------------------------------\n",
      "          num_tasks         t_max   utilization\n",
      "count  14000.000000  14000.000000  14000.000000\n",
      "mean       4.494286    358.225929      0.496839\n",
      "std        0.995437    435.572745      0.001848\n",
      "min        3.000000      1.000000      0.485008\n",
      "25%        4.000000     91.000000      0.496028\n",
      "50%        4.000000    214.000000      0.497257\n",
      "75%        5.000000    451.000000      0.498139\n",
      "max       10.000000   3001.000000      0.499806\n",
      "------------------------------task_sets_850-------------------------------\n",
      "          num_tasks         t_max   utilization\n",
      "count  14000.000000  14000.000000  14000.000000\n",
      "mean       4.490714    357.673714      0.496837\n",
      "std        0.992680    434.999589      0.001840\n",
      "min        3.000000      1.000000      0.485008\n",
      "25%        4.000000     91.000000      0.496029\n",
      "50%        4.000000    214.000000      0.497251\n",
      "75%        5.000000    449.000000      0.498136\n",
      "max       10.000000   3001.000000      0.499806\n",
      "------------------------------task_sets_900-------------------------------\n",
      "          num_tasks         t_max   utilization\n",
      "count  14000.000000  14000.000000  14000.000000\n",
      "mean       4.491929    358.995357      0.496840\n",
      "std        0.993338    436.801711      0.001840\n",
      "min        3.000000      1.000000      0.485008\n",
      "25%        4.000000     91.000000      0.496028\n",
      "50%        4.000000    215.000000      0.497253\n",
      "75%        5.000000    451.000000      0.498138\n",
      "max        9.000000   3001.000000      0.499806\n",
      "------------------------------task_sets_950-------------------------------\n",
      "          num_tasks         t_max   utilization\n",
      "count  14000.000000  14000.000000  14000.000000\n",
      "mean       4.492071    357.306357      0.496838\n",
      "std        0.994345    434.091765      0.001841\n",
      "min        3.000000      1.000000      0.485008\n",
      "25%        4.000000     91.000000      0.496031\n",
      "50%        4.000000    214.000000      0.497253\n",
      "75%        5.000000    448.000000      0.498136\n",
      "max       10.000000   3001.000000      0.499806\n",
      "------------------------------task_sets_975-------------------------------\n",
      "          num_tasks         t_max   utilization\n",
      "count  14000.000000  14000.000000  14000.000000\n",
      "mean       4.491429    357.587214      0.496839\n",
      "std        0.994914    434.154334      0.001841\n",
      "min        3.000000      1.000000      0.485008\n",
      "25%        4.000000     91.000000      0.496033\n",
      "50%        4.000000    215.000000      0.497255\n",
      "75%        5.000000    449.000000      0.498138\n",
      "max       10.000000   3001.000000      0.499806\n"
     ]
    }
   ],
   "source": [
    "for pre in PREFIX:\n",
    "  filenames = get_filtered_filenames(FILEPATH)\n",
    "  df = preprocess_data(filenames)\n",
    "  print(\"------------------------------{}-------------------------------\".format(pre))\n",
    "  print(df.describe())\n",
    "  df.to_csv(pre + '.csv', index=False)"
   ]
  },
  {
   "cell_type": "code",
   "execution_count": null,
   "metadata": {},
   "outputs": [],
   "source": []
  }
 ],
 "metadata": {
  "kernelspec": {
   "display_name": "gsvenv",
   "language": "python",
   "name": "python3"
  },
  "language_info": {
   "codemirror_mode": {
    "name": "ipython",
    "version": 3
   },
   "file_extension": ".py",
   "mimetype": "text/x-python",
   "name": "python",
   "nbconvert_exporter": "python",
   "pygments_lexer": "ipython3",
   "version": "3.9.6"
  },
  "orig_nbformat": 4
 },
 "nbformat": 4,
 "nbformat_minor": 2
}
