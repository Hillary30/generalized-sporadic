{
 "cells": [
  {
   "attachments": {},
   "cell_type": "markdown",
   "metadata": {},
   "source": [
    "## IMPORT"
   ]
  },
  {
   "cell_type": "code",
   "execution_count": 1,
   "metadata": {},
   "outputs": [],
   "source": [
    "import os\n",
    "import pandas as pd"
   ]
  },
  {
   "attachments": {},
   "cell_type": "markdown",
   "metadata": {},
   "source": [
    "## HELPER FUNCTIONS"
   ]
  },
  {
   "cell_type": "code",
   "execution_count": 2,
   "metadata": {},
   "outputs": [],
   "source": [
    "def get_filtered_filenames(folder_path, prefix):\n",
    "  filtered_files = []\n",
    "  for file in os.listdir(folder_path):\n",
    "    if file.startswith(prefix) and file.endswith('.csv'):\n",
    "      filtered_files.append('./csv/' + file)\n",
    "  return filtered_files"
   ]
  },
  {
   "cell_type": "code",
   "execution_count": 3,
   "metadata": {},
   "outputs": [],
   "source": [
    "def preprocess_data(file_names):\n",
    "  dfs = []\n",
    "  for file_name in file_names:\n",
    "    df = pd.read_csv(file_name)  \n",
    "    df = df.dropna()\n",
    "    assert not df.isnull().any().any(), \"DataFrame contains NaN values\"\n",
    "    dfs.append(df)\n",
    "  \n",
    "  combined_df = pd.concat(dfs, ignore_index=True)  \n",
    "  combined_df.drop_duplicates(inplace=True)  \n",
    "  combined_df[\"thm1\"] = combined_df[\"thm1\"].astype(bool)\n",
    "  combined_df[\"thm2\"] = combined_df[\"thm2\"].astype(bool)\n",
    "  combined_df[\"thm3\"] = combined_df[\"thm3\"].astype(bool)\n",
    "  combined_df = combined_df.sample(n=11000)\n",
    "  return combined_df"
   ]
  },
  {
   "attachments": {},
   "cell_type": "markdown",
   "metadata": {},
   "source": [
    "## DATA PREPROCESSING"
   ]
  },
  {
   "cell_type": "code",
   "execution_count": 4,
   "metadata": {},
   "outputs": [],
   "source": [
    "FILEPATH = '/Users/jiwoo/Desktop/generalized-sporadic/csv/'\n",
    "PREFIX = ['task_sets_500', 'task_sets_550', 'task_sets_600', 'task_sets_650', 'task_sets_700', 'task_sets_750', 'task_sets_800', 'task_sets_850','task_sets_900','task_sets_950', 'task_sets_975']"
   ]
  },
  {
   "cell_type": "code",
   "execution_count": 5,
   "metadata": {},
   "outputs": [
    {
     "name": "stdout",
     "output_type": "stream",
     "text": [
      "------------------------------task_sets_500-------------------------------\n",
      "          num_tasks         t_max   utilization\n",
      "count  11000.000000  11000.000000  11000.000000\n",
      "mean       4.497818    357.279818      0.496844\n",
      "std        0.996400    434.532377      0.001843\n",
      "min        3.000000      1.000000      0.485008\n",
      "25%        4.000000     90.000000      0.496044\n",
      "50%        4.000000    213.000000      0.497258\n",
      "75%        5.000000    449.000000      0.498141\n",
      "max        9.000000   3001.000000      0.499806\n",
      "------------------------------task_sets_550-------------------------------\n",
      "          num_tasks         t_max   utilization\n",
      "count  11000.000000  11000.000000  11000.000000\n",
      "mean       4.847000    433.192364      0.546550\n",
      "std        1.013389    525.141416      0.001875\n",
      "min        3.000000      1.000000      0.534800\n",
      "25%        4.000000    110.000000      0.545682\n",
      "50%        5.000000    260.000000      0.546930\n",
      "75%        5.000000    550.000000      0.547867\n",
      "max       11.000000   3706.000000      0.549839\n",
      "------------------------------task_sets_600-------------------------------\n",
      "          num_tasks         t_max   utilization\n",
      "count  11000.000000  11000.000000  11000.000000\n",
      "mean       5.214909    548.518455      0.596134\n",
      "std        1.066903    677.331157      0.002073\n",
      "min        3.000000      1.000000      0.584724\n",
      "25%        4.000000    139.000000      0.595139\n",
      "50%        5.000000    335.000000      0.596603\n",
      "75%        6.000000    680.000000      0.597594\n",
      "max       10.000000   4929.000000      0.599736\n",
      "------------------------------task_sets_650-------------------------------\n",
      "          num_tasks         t_max   utilization\n",
      "count  11000.000000  11000.000000  11000.000000\n",
      "mean       5.563455    651.234545      0.645783\n",
      "std        1.107780    739.664807      0.002168\n",
      "min        3.000000      1.000000      0.630853\n",
      "25%        5.000000    180.000000      0.644716\n",
      "50%        5.000000    422.000000      0.646236\n",
      "75%        6.000000    834.000000      0.647328\n",
      "max       11.000000   5041.000000      0.649581\n",
      "------------------------------task_sets_700-------------------------------\n",
      "          num_tasks         t_max   utilization\n",
      "count  11000.000000  11000.000000  11000.000000\n",
      "mean       5.934364    837.802727      0.695429\n",
      "std        1.151044    945.923686      0.002236\n",
      "min        3.000000      2.000000      0.675771\n",
      "25%        5.000000    237.000000      0.694332\n",
      "50%        6.000000    552.500000      0.695861\n",
      "75%        7.000000   1078.000000      0.697017\n",
      "max       13.000000   6765.000000      0.699635\n",
      "------------------------------task_sets_750-------------------------------\n",
      "          num_tasks         t_max   utilization\n",
      "count  11000.000000  11000.000000  11000.000000\n",
      "mean       6.277364   1041.158091      0.745043\n",
      "std        1.199098   1135.138686      0.002313\n",
      "min        4.000000      2.000000      0.731260\n",
      "25%        5.000000    309.000000      0.743862\n",
      "50%        6.000000    694.000000      0.745497\n",
      "75%        7.000000   1349.000000      0.746675\n",
      "max       12.000000   7333.000000      0.749431\n",
      "------------------------------task_sets_800-------------------------------\n",
      "         num_tasks         t_max   utilization\n",
      "count  11000.00000  11000.000000  11000.000000\n",
      "mean       6.65100   1421.894909      0.794717\n",
      "std        1.21291   1529.581831      0.002399\n",
      "min        4.00000      3.000000      0.779149\n",
      "25%        6.00000    439.000000      0.793469\n",
      "50%        7.00000    965.000000      0.795156\n",
      "75%        7.00000   1847.000000      0.796440\n",
      "max       13.00000  10768.000000      0.799431\n",
      "------------------------------task_sets_850-------------------------------\n",
      "          num_tasks         t_max   utilization\n",
      "count  11000.000000  11000.000000  11000.000000\n",
      "mean       6.984455   1974.805818      0.844347\n",
      "std        1.245789   2092.333577      0.002498\n",
      "min        4.000000      5.000000      0.828177\n",
      "25%        6.000000    617.750000      0.842992\n",
      "50%        7.000000   1365.000000      0.844796\n",
      "75%        8.000000   2590.250000      0.846165\n",
      "max       13.000000  14321.000000      0.849372\n",
      "------------------------------task_sets_900-------------------------------\n",
      "          num_tasks         t_max   utilization\n",
      "count  11000.000000  11000.000000  11000.000000\n",
      "mean       7.370636   3106.586091      0.893989\n",
      "std        1.303199   3273.754015      0.002612\n",
      "min        4.000000      7.000000      0.873960\n",
      "25%        6.000000    977.000000      0.892610\n",
      "50%        7.000000   2161.500000      0.894430\n",
      "75%        8.000000   4058.000000      0.895881\n",
      "max       14.000000  23999.000000      0.899295\n",
      "------------------------------task_sets_950-------------------------------\n",
      "          num_tasks         t_max   utilization\n",
      "count  11000.000000  11000.000000  11000.000000\n",
      "mean       7.708091   5251.943364      0.943612\n",
      "std        1.314168   4594.432628      0.002652\n",
      "min        5.000000     15.000000      0.930365\n",
      "25%        7.000000   1982.000000      0.942187\n",
      "50%        8.000000   4146.500000      0.944077\n",
      "75%        9.000000   7388.250000      0.945536\n",
      "max       14.000000  39447.000000      0.949041\n",
      "------------------------------task_sets_975-------------------------------\n",
      "          num_tasks         t_max   utilization\n",
      "count  11000.000000  11000.000000  11000.000000\n",
      "mean       7.755545   7513.113273      0.968316\n",
      "std        1.292050   5326.313062      0.002760\n",
      "min        5.000000     27.000000      0.952852\n",
      "25%        7.000000   3132.500000      0.966809\n",
      "50%        8.000000   6521.000000      0.968807\n",
      "75%        9.000000  11031.250000      0.970311\n",
      "max       16.000000  25801.000000      0.973914\n"
     ]
    }
   ],
   "source": [
    "for pre in PREFIX:\n",
    "  filenames = get_filtered_filenames(FILEPATH, pre)\n",
    "  df = preprocess_data(filenames)\n",
    "  print(\"------------------------------{}-------------------------------\".format(pre))\n",
    "  print(df.describe())\n",
    "  df.to_csv(pre + '_test.csv', index=False)"
   ]
  },
  {
   "cell_type": "code",
   "execution_count": null,
   "metadata": {},
   "outputs": [],
   "source": []
  }
 ],
 "metadata": {
  "kernelspec": {
   "display_name": "gsvenv",
   "language": "python",
   "name": "python3"
  },
  "language_info": {
   "codemirror_mode": {
    "name": "ipython",
    "version": 3
   },
   "file_extension": ".py",
   "mimetype": "text/x-python",
   "name": "python",
   "nbconvert_exporter": "python",
   "pygments_lexer": "ipython3",
   "version": "3.9.6"
  },
  "orig_nbformat": 4
 },
 "nbformat": 4,
 "nbformat_minor": 2
}
