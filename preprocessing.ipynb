{
 "cells": [
  {
   "attachments": {},
   "cell_type": "markdown",
   "metadata": {},
   "source": [
    "## IMPORT"
   ]
  },
  {
   "cell_type": "code",
   "execution_count": 1,
   "metadata": {},
   "outputs": [],
   "source": [
    "import os\n",
    "import pandas as pd"
   ]
  },
  {
   "attachments": {},
   "cell_type": "markdown",
   "metadata": {},
   "source": [
    "## HELPER FUNCTIONS"
   ]
  },
  {
   "cell_type": "code",
   "execution_count": 13,
   "metadata": {},
   "outputs": [],
   "source": [
    "def get_filtered_filenames(folder_path, prefix='task_sets_500'):\n",
    "  filtered_files = []\n",
    "  for file in os.listdir(folder_path):\n",
    "    if file.startswith(prefix) and file.endswith('.csv'):\n",
    "      filtered_files.append('./csv/' + file)\n",
    "  return filtered_files"
   ]
  },
  {
   "cell_type": "code",
   "execution_count": 14,
   "metadata": {},
   "outputs": [],
   "source": [
    "def preprocess_data(file_names):\n",
    "  dfs = []\n",
    "  for file_name in file_names:\n",
    "    df = pd.read_csv(file_name)  \n",
    "    df = df.dropna()\n",
    "    assert not df.isnull().any().any(), \"DataFrame contains NaN values\"\n",
    "    dfs.append(df)\n",
    "  \n",
    "  combined_df = pd.concat(dfs, ignore_index=True)  \n",
    "  combined_df.drop_duplicates(inplace=True)  \n",
    "  combined_df[\"thm1\"] = combined_df[\"thm1\"].astype(bool)\n",
    "  combined_df[\"thm2\"] = combined_df[\"thm2\"].astype(bool)\n",
    "  combined_df[\"thm3\"] = combined_df[\"thm3\"].astype(bool)\n",
    "  return combined_df"
   ]
  },
  {
   "attachments": {},
   "cell_type": "markdown",
   "metadata": {},
   "source": [
    "## DATA PREPROCESSING"
   ]
  },
  {
   "cell_type": "code",
   "execution_count": 18,
   "metadata": {},
   "outputs": [],
   "source": [
    "FILEPATH = '/Users/jiwoo/Desktop/generalized-sporadic/csv/'\n",
    "PREFIX = ['task_sets_500', 'task_sets_550', 'task_sets_600', 'task_sets_650', 'task_sets_700', 'task_sets_750', 'task_sets_800', 'task_sets_850','task_sets_900','task_sets_950', 'task_sets_975']"
   ]
  },
  {
   "cell_type": "code",
   "execution_count": 19,
   "metadata": {},
   "outputs": [
    {
     "name": "stdout",
     "output_type": "stream",
     "text": [
      "------------------------------task_sets_500-------------------------------\n",
      "          num_tasks         t_max   utilization\n",
      "count  14398.000000  14398.000000  14398.000000\n",
      "mean       4.492777    358.215516      0.496838\n",
      "std        0.994768    435.517245      0.001842\n",
      "min        3.000000      1.000000      0.485008\n",
      "25%        4.000000     91.000000      0.496028\n",
      "50%        4.000000    214.000000      0.497254\n",
      "75%        5.000000    450.000000      0.498137\n",
      "max       10.000000   3001.000000      0.499806\n",
      "------------------------------task_sets_550-------------------------------\n",
      "          num_tasks         t_max   utilization\n",
      "count  14398.000000  14398.000000  14398.000000\n",
      "mean       4.492777    358.215516      0.496838\n",
      "std        0.994768    435.517245      0.001842\n",
      "min        3.000000      1.000000      0.485008\n",
      "25%        4.000000     91.000000      0.496028\n",
      "50%        4.000000    214.000000      0.497254\n",
      "75%        5.000000    450.000000      0.498137\n",
      "max       10.000000   3001.000000      0.499806\n",
      "------------------------------task_sets_600-------------------------------\n",
      "          num_tasks         t_max   utilization\n",
      "count  14398.000000  14398.000000  14398.000000\n",
      "mean       4.492777    358.215516      0.496838\n",
      "std        0.994768    435.517245      0.001842\n",
      "min        3.000000      1.000000      0.485008\n",
      "25%        4.000000     91.000000      0.496028\n",
      "50%        4.000000    214.000000      0.497254\n",
      "75%        5.000000    450.000000      0.498137\n",
      "max       10.000000   3001.000000      0.499806\n",
      "------------------------------task_sets_650-------------------------------\n",
      "          num_tasks         t_max   utilization\n",
      "count  14398.000000  14398.000000  14398.000000\n",
      "mean       4.492777    358.215516      0.496838\n",
      "std        0.994768    435.517245      0.001842\n",
      "min        3.000000      1.000000      0.485008\n",
      "25%        4.000000     91.000000      0.496028\n",
      "50%        4.000000    214.000000      0.497254\n",
      "75%        5.000000    450.000000      0.498137\n",
      "max       10.000000   3001.000000      0.499806\n",
      "------------------------------task_sets_700-------------------------------\n",
      "          num_tasks         t_max   utilization\n",
      "count  14398.000000  14398.000000  14398.000000\n",
      "mean       4.492777    358.215516      0.496838\n",
      "std        0.994768    435.517245      0.001842\n",
      "min        3.000000      1.000000      0.485008\n",
      "25%        4.000000     91.000000      0.496028\n",
      "50%        4.000000    214.000000      0.497254\n",
      "75%        5.000000    450.000000      0.498137\n",
      "max       10.000000   3001.000000      0.499806\n",
      "------------------------------task_sets_750-------------------------------\n",
      "          num_tasks         t_max   utilization\n",
      "count  14398.000000  14398.000000  14398.000000\n",
      "mean       4.492777    358.215516      0.496838\n",
      "std        0.994768    435.517245      0.001842\n",
      "min        3.000000      1.000000      0.485008\n",
      "25%        4.000000     91.000000      0.496028\n",
      "50%        4.000000    214.000000      0.497254\n",
      "75%        5.000000    450.000000      0.498137\n",
      "max       10.000000   3001.000000      0.499806\n",
      "------------------------------task_sets_800-------------------------------\n",
      "          num_tasks         t_max   utilization\n",
      "count  14398.000000  14398.000000  14398.000000\n",
      "mean       4.492777    358.215516      0.496838\n",
      "std        0.994768    435.517245      0.001842\n",
      "min        3.000000      1.000000      0.485008\n",
      "25%        4.000000     91.000000      0.496028\n",
      "50%        4.000000    214.000000      0.497254\n",
      "75%        5.000000    450.000000      0.498137\n",
      "max       10.000000   3001.000000      0.499806\n",
      "------------------------------task_sets_850-------------------------------\n",
      "          num_tasks         t_max   utilization\n",
      "count  14398.000000  14398.000000  14398.000000\n",
      "mean       4.492777    358.215516      0.496838\n",
      "std        0.994768    435.517245      0.001842\n",
      "min        3.000000      1.000000      0.485008\n",
      "25%        4.000000     91.000000      0.496028\n",
      "50%        4.000000    214.000000      0.497254\n",
      "75%        5.000000    450.000000      0.498137\n",
      "max       10.000000   3001.000000      0.499806\n",
      "------------------------------task_sets_900-------------------------------\n",
      "          num_tasks         t_max   utilization\n",
      "count  14398.000000  14398.000000  14398.000000\n",
      "mean       4.492777    358.215516      0.496838\n",
      "std        0.994768    435.517245      0.001842\n",
      "min        3.000000      1.000000      0.485008\n",
      "25%        4.000000     91.000000      0.496028\n",
      "50%        4.000000    214.000000      0.497254\n",
      "75%        5.000000    450.000000      0.498137\n",
      "max       10.000000   3001.000000      0.499806\n",
      "------------------------------task_sets_950-------------------------------\n",
      "          num_tasks         t_max   utilization\n",
      "count  14398.000000  14398.000000  14398.000000\n",
      "mean       4.492777    358.215516      0.496838\n",
      "std        0.994768    435.517245      0.001842\n",
      "min        3.000000      1.000000      0.485008\n",
      "25%        4.000000     91.000000      0.496028\n",
      "50%        4.000000    214.000000      0.497254\n",
      "75%        5.000000    450.000000      0.498137\n",
      "max       10.000000   3001.000000      0.499806\n",
      "------------------------------task_sets_975-------------------------------\n",
      "          num_tasks         t_max   utilization\n",
      "count  14398.000000  14398.000000  14398.000000\n",
      "mean       4.492777    358.215516      0.496838\n",
      "std        0.994768    435.517245      0.001842\n",
      "min        3.000000      1.000000      0.485008\n",
      "25%        4.000000     91.000000      0.496028\n",
      "50%        4.000000    214.000000      0.497254\n",
      "75%        5.000000    450.000000      0.498137\n",
      "max       10.000000   3001.000000      0.499806\n"
     ]
    }
   ],
   "source": [
    "for pre in PREFIX:\n",
    "  filenames = get_filtered_filenames(FILEPATH)\n",
    "  df = preprocess_data(filenames)\n",
    "  print(\"------------------------------{}-------------------------------\".format(pre))\n",
    "  print(df.describe())\n",
    "  df.to_csv(pre + '.csv', index=False)"
   ]
  }
 ],
 "metadata": {
  "kernelspec": {
   "display_name": "gsvenv",
   "language": "python",
   "name": "python3"
  },
  "language_info": {
   "codemirror_mode": {
    "name": "ipython",
    "version": 3
   },
   "file_extension": ".py",
   "mimetype": "text/x-python",
   "name": "python",
   "nbconvert_exporter": "python",
   "pygments_lexer": "ipython3",
   "version": "3.9.6"
  },
  "orig_nbformat": 4
 },
 "nbformat": 4,
 "nbformat_minor": 2
}
